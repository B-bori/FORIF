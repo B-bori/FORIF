{
  "nbformat": 4,
  "nbformat_minor": 0,
  "metadata": {
    "colab": {
      "name": "Forif 1주차 파이썬 과제.ipynb",
      "provenance": [],
      "collapsed_sections": []
    },
    "kernelspec": {
      "name": "python3",
      "display_name": "Python 3"
    }
  },
  "cells": [
    {
      "cell_type": "markdown",
      "metadata": {
        "id": "vecTqTVCYW9b",
        "colab_type": "text"
      },
      "source": [
        "#1. \n",
        "\n",
        "A 학급에 총 10명의 학생이 있다. 이 학생들의 중간고사 점수는 다음과 같다.\n",
        "  \n",
        "     scor_list=[70,60,55,75,95,90,80,80,85,100]\n",
        "for문을 사용하여 A학급의 평균 점수를 구해보자\n",
        "\n",
        "\n",
        "\n",
        "---\n",
        "\n",
        "\n",
        "---\n",
        "\n",
        "\n",
        "\n",
        "\n"
      ]
    },
    {
      "cell_type": "code",
      "metadata": {
        "id": "BVv5gX5nDZLf",
        "colab_type": "code",
        "colab": {
          "base_uri": "https://localhost:8080/",
          "height": 35
        },
        "outputId": "0f4d0d6e-151a-4c2b-94a6-14d7eb02a9ac"
      },
      "source": [
        "#1\n",
        "score_list=[70,60,55,75,95,90,80,80,85,100]\n",
        "sum=0\n",
        "for i in score_list:\n",
        "  sum+=i\n",
        "\n",
        "m=sum/10\n",
        "print(m)"
      ],
      "execution_count": 50,
      "outputs": [
        {
          "output_type": "stream",
          "text": [
            "79.0\n"
          ],
          "name": "stdout"
        }
      ]
    },
    {
      "cell_type": "markdown",
      "metadata": {
        "id": "siJBW3G6ZM6S",
        "colab_type": "text"
      },
      "source": [
        "#2. \n",
        "\n",
        "    problem1={\"홍길동\":\"881120-2068234\", \"정홍두\":\"987654-1234567\", \"신한결\":\"123456-1345678\"}\n",
        "\n",
        "\n",
        "위 딕셔너리의 key, value 쌍을 순회하며 이름과 성별을 나타내는 새로운 딕셔너리를 만들 것. \n",
        "\n",
        "(힌트: 주민등록번호 첫번째 뒷자리가 성별을 나타냄)\n",
        "\n",
        "\n",
        "---\n",
        "\n",
        "\n",
        "\n",
        "---\n",
        "\n",
        "\n"
      ]
    },
    {
      "cell_type": "code",
      "metadata": {
        "id": "6zsHUMNyD-EZ",
        "colab_type": "code",
        "colab": {
          "base_uri": "https://localhost:8080/",
          "height": 35
        },
        "outputId": "f9b7eae3-92d3-4f9d-9b8f-4fb019d57491"
      },
      "source": [
        "#2\n",
        "problem1={\"홍길동\":\"881120-2068234\", \"정홍두\":\"987654-1234567\", \"신한결\":\"123456-1345678\"}\n",
        "V=list(problem1.values())\n",
        "K=list(problem1.keys())\n",
        "for i in range(len(V)):\n",
        "  if V[i][7]=='1' or V[i][7]=='3':\n",
        "    V[i]=\"남\"\n",
        "  else:\n",
        "    V[i]=\"여\"\n",
        "\n",
        "Result={K[i]:V[i] for i in range(len(problem1))}\n",
        "print(Result)"
      ],
      "execution_count": 51,
      "outputs": [
        {
          "output_type": "stream",
          "text": [
            "{'홍길동': '여', '정홍두': '남', '신한결': '남'}\n"
          ],
          "name": "stdout"
        }
      ]
    },
    {
      "cell_type": "markdown",
      "metadata": {
        "id": "rjtfqVeRaK0P",
        "colab_type": "text"
      },
      "source": [
        "#3.\n",
        "\n",
        "a 리스트에서 중복 숫자를 제거해 보자.\n",
        "\n",
        "      a=[1,1,1,2,2,3,3,3,4,4,5]\n",
        "\n",
        "\n",
        "\n",
        "---\n",
        "\n",
        "\n",
        "\n",
        "---\n",
        "\n"
      ]
    },
    {
      "cell_type": "code",
      "metadata": {
        "id": "h5x8PCWsQJvP",
        "colab_type": "code",
        "colab": {
          "base_uri": "https://localhost:8080/",
          "height": 52
        },
        "outputId": "a769f8ee-ad63-4d15-d1ba-e4a4fbc5178b"
      },
      "source": [
        "#3\n",
        "\n",
        "a=[1,1,1,2,2,3,3,3,4,4,5]\n",
        "\n",
        "# sol1)\n",
        "s=set(a)\n",
        "print(list(s))\n",
        "\n",
        "# sol2)\n",
        "b=[]\n",
        "for i in a:\n",
        "  if(b.count(i)==0):\n",
        "    b.append(i)\n",
        "\n",
        "print(sorted(b))"
      ],
      "execution_count": 52,
      "outputs": [
        {
          "output_type": "stream",
          "text": [
            "[1, 2, 3, 4, 5]\n",
            "[1, 2, 3, 4, 5]\n"
          ],
          "name": "stdout"
        }
      ]
    },
    {
      "cell_type": "markdown",
      "metadata": {
        "id": "0sSGct5HaeIC",
        "colab_type": "text"
      },
      "source": [
        "#4.\n",
        "\n",
        "리스트의 최댓값과 최솟값을 구하는 함수를 작성해보자\n",
        "\n",
        "예시 리스트:\n",
        "\n",
        "     [-8,2,7,5,-3,5,0,1]\n",
        "\n",
        "예시 출력:\n",
        "\n",
        "     >>> 해당 리스트의 최솟값은 -8, 최댓값은 7입니다.\n",
        "\n",
        "\n",
        "\n",
        "---\n",
        "\n",
        "\n",
        "\n",
        "---\n",
        "\n",
        "\n",
        "\n"
      ]
    },
    {
      "cell_type": "code",
      "metadata": {
        "id": "SpOgdvkIdCbX",
        "colab_type": "code",
        "colab": {
          "base_uri": "https://localhost:8080/",
          "height": 35
        },
        "outputId": "758c5893-c94a-4cba-8997-6bc82bf168cb"
      },
      "source": [
        "L=[-8,2,7,5,-3,5,0,1]\n",
        "M=max(L)\n",
        "m=min(L)\n",
        "def max():\n",
        "  return M\n",
        "def min():\n",
        "  return m\n",
        "print(\"해당 리스트의 최솟값은 %d, 최댓값은 %d입니다\" %(min(), max()))"
      ],
      "execution_count": 1,
      "outputs": [
        {
          "output_type": "stream",
          "text": [
            "해당 리스트의 최솟값은 -8, 최댓값은 7입니다\n"
          ],
          "name": "stdout"
        }
      ]
    },
    {
      "cell_type": "markdown",
      "metadata": {
        "id": "5H_YR79RekvH",
        "colab_type": "text"
      },
      "source": [
        ""
      ]
    }
  ]
}